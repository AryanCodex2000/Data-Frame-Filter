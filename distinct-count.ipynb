{
 "cells": [
  {
   "cell_type": "code",
   "execution_count": 1,
   "id": "0123dae6",
   "metadata": {
    "_cell_guid": "b1076dfc-b9ad-4769-8c92-a6c4dae69d19",
    "_uuid": "8f2839f25d086af736a60e9eeb907d3b93b6e0e5",
    "execution": {
     "iopub.execute_input": "2025-07-07T13:40:10.388361Z",
     "iopub.status.busy": "2025-07-07T13:40:10.388002Z",
     "iopub.status.idle": "2025-07-07T13:40:12.605082Z",
     "shell.execute_reply": "2025-07-07T13:40:12.604042Z"
    },
    "papermill": {
     "duration": 2.223759,
     "end_time": "2025-07-07T13:40:12.606877",
     "exception": false,
     "start_time": "2025-07-07T13:40:10.383118",
     "status": "completed"
    },
    "tags": []
   },
   "outputs": [],
   "source": [
    "import pandas as pd \n",
    "import numpy as np\n"
   ]
  },
  {
   "cell_type": "code",
   "execution_count": 2,
   "id": "a3cce879",
   "metadata": {
    "execution": {
     "iopub.execute_input": "2025-07-07T13:40:12.615573Z",
     "iopub.status.busy": "2025-07-07T13:40:12.614502Z",
     "iopub.status.idle": "2025-07-07T13:40:13.201648Z",
     "shell.execute_reply": "2025-07-07T13:40:13.200589Z"
    },
    "papermill": {
     "duration": 0.592943,
     "end_time": "2025-07-07T13:40:13.203471",
     "exception": false,
     "start_time": "2025-07-07T13:40:12.610528",
     "status": "completed"
    },
    "tags": []
   },
   "outputs": [],
   "source": [
    "df = pd.read_csv('/kaggle/input/novel-corona-virus-2019-dataset/covid_19_data.csv')"
   ]
  },
  {
   "cell_type": "code",
   "execution_count": 3,
   "id": "570df24f",
   "metadata": {
    "execution": {
     "iopub.execute_input": "2025-07-07T13:40:13.211251Z",
     "iopub.status.busy": "2025-07-07T13:40:13.210907Z",
     "iopub.status.idle": "2025-07-07T13:40:13.249075Z",
     "shell.execute_reply": "2025-07-07T13:40:13.247919Z"
    },
    "papermill": {
     "duration": 0.043961,
     "end_time": "2025-07-07T13:40:13.250776",
     "exception": false,
     "start_time": "2025-07-07T13:40:13.206815",
     "status": "completed"
    },
    "tags": []
   },
   "outputs": [
    {
     "data": {
      "text/html": [
       "<div>\n",
       "<style scoped>\n",
       "    .dataframe tbody tr th:only-of-type {\n",
       "        vertical-align: middle;\n",
       "    }\n",
       "\n",
       "    .dataframe tbody tr th {\n",
       "        vertical-align: top;\n",
       "    }\n",
       "\n",
       "    .dataframe thead th {\n",
       "        text-align: right;\n",
       "    }\n",
       "</style>\n",
       "<table border=\"1\" class=\"dataframe\">\n",
       "  <thead>\n",
       "    <tr style=\"text-align: right;\">\n",
       "      <th></th>\n",
       "      <th>SNo</th>\n",
       "      <th>ObservationDate</th>\n",
       "      <th>Province/State</th>\n",
       "      <th>Country/Region</th>\n",
       "      <th>Last Update</th>\n",
       "      <th>Confirmed</th>\n",
       "      <th>Deaths</th>\n",
       "      <th>Recovered</th>\n",
       "    </tr>\n",
       "  </thead>\n",
       "  <tbody>\n",
       "    <tr>\n",
       "      <th>0</th>\n",
       "      <td>1</td>\n",
       "      <td>01/22/2020</td>\n",
       "      <td>Anhui</td>\n",
       "      <td>Mainland China</td>\n",
       "      <td>1/22/2020 17:00</td>\n",
       "      <td>1.0</td>\n",
       "      <td>0.0</td>\n",
       "      <td>0.0</td>\n",
       "    </tr>\n",
       "    <tr>\n",
       "      <th>1</th>\n",
       "      <td>2</td>\n",
       "      <td>01/22/2020</td>\n",
       "      <td>Beijing</td>\n",
       "      <td>Mainland China</td>\n",
       "      <td>1/22/2020 17:00</td>\n",
       "      <td>14.0</td>\n",
       "      <td>0.0</td>\n",
       "      <td>0.0</td>\n",
       "    </tr>\n",
       "    <tr>\n",
       "      <th>2</th>\n",
       "      <td>3</td>\n",
       "      <td>01/22/2020</td>\n",
       "      <td>Chongqing</td>\n",
       "      <td>Mainland China</td>\n",
       "      <td>1/22/2020 17:00</td>\n",
       "      <td>6.0</td>\n",
       "      <td>0.0</td>\n",
       "      <td>0.0</td>\n",
       "    </tr>\n",
       "    <tr>\n",
       "      <th>3</th>\n",
       "      <td>4</td>\n",
       "      <td>01/22/2020</td>\n",
       "      <td>Fujian</td>\n",
       "      <td>Mainland China</td>\n",
       "      <td>1/22/2020 17:00</td>\n",
       "      <td>1.0</td>\n",
       "      <td>0.0</td>\n",
       "      <td>0.0</td>\n",
       "    </tr>\n",
       "    <tr>\n",
       "      <th>4</th>\n",
       "      <td>5</td>\n",
       "      <td>01/22/2020</td>\n",
       "      <td>Gansu</td>\n",
       "      <td>Mainland China</td>\n",
       "      <td>1/22/2020 17:00</td>\n",
       "      <td>0.0</td>\n",
       "      <td>0.0</td>\n",
       "      <td>0.0</td>\n",
       "    </tr>\n",
       "    <tr>\n",
       "      <th>...</th>\n",
       "      <td>...</td>\n",
       "      <td>...</td>\n",
       "      <td>...</td>\n",
       "      <td>...</td>\n",
       "      <td>...</td>\n",
       "      <td>...</td>\n",
       "      <td>...</td>\n",
       "      <td>...</td>\n",
       "    </tr>\n",
       "    <tr>\n",
       "      <th>306424</th>\n",
       "      <td>306425</td>\n",
       "      <td>05/29/2021</td>\n",
       "      <td>Zaporizhia Oblast</td>\n",
       "      <td>Ukraine</td>\n",
       "      <td>2021-05-30 04:20:55</td>\n",
       "      <td>102641.0</td>\n",
       "      <td>2335.0</td>\n",
       "      <td>95289.0</td>\n",
       "    </tr>\n",
       "    <tr>\n",
       "      <th>306425</th>\n",
       "      <td>306426</td>\n",
       "      <td>05/29/2021</td>\n",
       "      <td>Zeeland</td>\n",
       "      <td>Netherlands</td>\n",
       "      <td>2021-05-30 04:20:55</td>\n",
       "      <td>29147.0</td>\n",
       "      <td>245.0</td>\n",
       "      <td>0.0</td>\n",
       "    </tr>\n",
       "    <tr>\n",
       "      <th>306426</th>\n",
       "      <td>306427</td>\n",
       "      <td>05/29/2021</td>\n",
       "      <td>Zhejiang</td>\n",
       "      <td>Mainland China</td>\n",
       "      <td>2021-05-30 04:20:55</td>\n",
       "      <td>1364.0</td>\n",
       "      <td>1.0</td>\n",
       "      <td>1324.0</td>\n",
       "    </tr>\n",
       "    <tr>\n",
       "      <th>306427</th>\n",
       "      <td>306428</td>\n",
       "      <td>05/29/2021</td>\n",
       "      <td>Zhytomyr Oblast</td>\n",
       "      <td>Ukraine</td>\n",
       "      <td>2021-05-30 04:20:55</td>\n",
       "      <td>87550.0</td>\n",
       "      <td>1738.0</td>\n",
       "      <td>83790.0</td>\n",
       "    </tr>\n",
       "    <tr>\n",
       "      <th>306428</th>\n",
       "      <td>306429</td>\n",
       "      <td>05/29/2021</td>\n",
       "      <td>Zuid-Holland</td>\n",
       "      <td>Netherlands</td>\n",
       "      <td>2021-05-30 04:20:55</td>\n",
       "      <td>391559.0</td>\n",
       "      <td>4252.0</td>\n",
       "      <td>0.0</td>\n",
       "    </tr>\n",
       "  </tbody>\n",
       "</table>\n",
       "<p>306429 rows × 8 columns</p>\n",
       "</div>"
      ],
      "text/plain": [
       "           SNo ObservationDate     Province/State  Country/Region  \\\n",
       "0            1      01/22/2020              Anhui  Mainland China   \n",
       "1            2      01/22/2020            Beijing  Mainland China   \n",
       "2            3      01/22/2020          Chongqing  Mainland China   \n",
       "3            4      01/22/2020             Fujian  Mainland China   \n",
       "4            5      01/22/2020              Gansu  Mainland China   \n",
       "...        ...             ...                ...             ...   \n",
       "306424  306425      05/29/2021  Zaporizhia Oblast         Ukraine   \n",
       "306425  306426      05/29/2021            Zeeland     Netherlands   \n",
       "306426  306427      05/29/2021           Zhejiang  Mainland China   \n",
       "306427  306428      05/29/2021    Zhytomyr Oblast         Ukraine   \n",
       "306428  306429      05/29/2021       Zuid-Holland     Netherlands   \n",
       "\n",
       "                Last Update  Confirmed  Deaths  Recovered  \n",
       "0           1/22/2020 17:00        1.0     0.0        0.0  \n",
       "1           1/22/2020 17:00       14.0     0.0        0.0  \n",
       "2           1/22/2020 17:00        6.0     0.0        0.0  \n",
       "3           1/22/2020 17:00        1.0     0.0        0.0  \n",
       "4           1/22/2020 17:00        0.0     0.0        0.0  \n",
       "...                     ...        ...     ...        ...  \n",
       "306424  2021-05-30 04:20:55   102641.0  2335.0    95289.0  \n",
       "306425  2021-05-30 04:20:55    29147.0   245.0        0.0  \n",
       "306426  2021-05-30 04:20:55     1364.0     1.0     1324.0  \n",
       "306427  2021-05-30 04:20:55    87550.0  1738.0    83790.0  \n",
       "306428  2021-05-30 04:20:55   391559.0  4252.0        0.0  \n",
       "\n",
       "[306429 rows x 8 columns]"
      ]
     },
     "execution_count": 3,
     "metadata": {},
     "output_type": "execute_result"
    }
   ],
   "source": [
    "df"
   ]
  },
  {
   "cell_type": "code",
   "execution_count": 4,
   "id": "7bd26ddc",
   "metadata": {
    "execution": {
     "iopub.execute_input": "2025-07-07T13:40:13.259597Z",
     "iopub.status.busy": "2025-07-07T13:40:13.259261Z",
     "iopub.status.idle": "2025-07-07T13:40:13.357342Z",
     "shell.execute_reply": "2025-07-07T13:40:13.356104Z"
    },
    "papermill": {
     "duration": 0.104391,
     "end_time": "2025-07-07T13:40:13.359131",
     "exception": false,
     "start_time": "2025-07-07T13:40:13.254740",
     "status": "completed"
    },
    "tags": []
   },
   "outputs": [
    {
     "name": "stdout",
     "output_type": "stream",
     "text": [
      "<class 'pandas.core.frame.DataFrame'>\n",
      "RangeIndex: 306429 entries, 0 to 306428\n",
      "Data columns (total 8 columns):\n",
      " #   Column           Non-Null Count   Dtype  \n",
      "---  ------           --------------   -----  \n",
      " 0   SNo              306429 non-null  int64  \n",
      " 1   ObservationDate  306429 non-null  object \n",
      " 2   Province/State   228326 non-null  object \n",
      " 3   Country/Region   306429 non-null  object \n",
      " 4   Last Update      306429 non-null  object \n",
      " 5   Confirmed        306429 non-null  float64\n",
      " 6   Deaths           306429 non-null  float64\n",
      " 7   Recovered        306429 non-null  float64\n",
      "dtypes: float64(3), int64(1), object(4)\n",
      "memory usage: 18.7+ MB\n"
     ]
    }
   ],
   "source": [
    "df.info()"
   ]
  },
  {
   "cell_type": "code",
   "execution_count": 5,
   "id": "6b914a7e",
   "metadata": {
    "execution": {
     "iopub.execute_input": "2025-07-07T13:40:13.367665Z",
     "iopub.status.busy": "2025-07-07T13:40:13.367216Z",
     "iopub.status.idle": "2025-07-07T13:40:13.388141Z",
     "shell.execute_reply": "2025-07-07T13:40:13.386945Z"
    },
    "papermill": {
     "duration": 0.026952,
     "end_time": "2025-07-07T13:40:13.389683",
     "exception": false,
     "start_time": "2025-07-07T13:40:13.362731",
     "status": "completed"
    },
    "tags": []
   },
   "outputs": [
    {
     "data": {
      "text/plain": [
       "array(['Anhui', 'Beijing', 'Chongqing', 'Fujian', 'Gansu', 'Guangdong',\n",
       "       'Guangxi', 'Guizhou', 'Hainan', 'Hebei', 'Heilongjiang', 'Henan',\n",
       "       'Hong Kong', 'Hubei', 'Hunan', 'Inner Mongolia', 'Jiangsu',\n",
       "       'Jiangxi', 'Jilin', 'Liaoning', 'Macau', 'Ningxia', 'Qinghai',\n",
       "       'Shaanxi', 'Shandong', 'Shanghai', 'Shanxi', 'Sichuan', 'Taiwan',\n",
       "       'Tianjin', 'Tibet', 'Washington', 'Xinjiang', 'Yunnan', 'Zhejiang',\n",
       "       nan, 'Unknown', 'Chicago', 'Illinois', 'California', 'Arizona',\n",
       "       'Ontario', 'New South Wales', 'Victoria', 'British Columbia',\n",
       "       'Bavaria', 'Queensland', 'Chicago, IL', 'South Australia',\n",
       "       'Boston, MA', 'Los Angeles, CA', 'Orange, CA', 'Santa Clara, CA',\n",
       "       'Seattle, WA', 'Tempe, AZ', 'San Benito, CA', 'Toronto, ON',\n",
       "       'London, ON', 'Madison, WI', 'Cruise Ship',\n",
       "       'Diamond Princess cruise ship', 'San Diego County, CA',\n",
       "       'San Antonio, TX', 'Ashland, NE', 'Travis, CA',\n",
       "       'From Diamond Princess', 'Lackland, TX', 'Humboldt County, CA',\n",
       "       'Sacramento County, CA', 'Omaha, NE (From Diamond Princess)',\n",
       "       'Travis, CA (From Diamond Princess)',\n",
       "       'Lackland, TX (From Diamond Princess)',\n",
       "       'Unassigned Location (From Diamond Princess)', ' Montreal, QC',\n",
       "       'Western Australia', 'Portland, OR', 'Snohomish County, WA',\n",
       "       'Providence, RI', 'King County, WA', 'Cook County, IL', 'Tasmania',\n",
       "       'Grafton County, NH', 'Hillsborough, FL', 'New York City, NY',\n",
       "       'Placer County, CA', 'San Mateo, CA', 'Sarasota, FL',\n",
       "       'Sonoma County, CA', 'Umatilla, OR', 'Fulton County, GA',\n",
       "       'Washington County, OR', ' Norfolk County, MA', 'Berkeley, CA',\n",
       "       'Maricopa County, AZ', 'Wake County, NC', 'Westchester County, NY',\n",
       "       'Orange County, CA', 'Northern Territory',\n",
       "       'Contra Costa County, CA', 'Bergen County, NJ',\n",
       "       'Harris County, TX', 'San Francisco County, CA',\n",
       "       'Clark County, NV', 'Fort Bend County, TX', 'Grant County, WA',\n",
       "       'Queens County, NY', 'Santa Rosa County, FL',\n",
       "       'Williamson County, TN', 'New York County, NY',\n",
       "       'Unassigned Location, WA', 'Montgomery County, MD',\n",
       "       'Suffolk County, MA', 'Denver County, CO', 'Summit County, CO',\n",
       "       'Calgary, Alberta', 'Chatham County, NC', 'Delaware County, PA',\n",
       "       'Douglas County, NE', 'Fayette County, KY', 'Floyd County, GA',\n",
       "       'Marion County, IN', 'Middlesex County, MA', 'Nassau County, NY',\n",
       "       'Norwell County, MA', 'Ramsey County, MN', 'Washoe County, NV',\n",
       "       'Wayne County, PA', 'Yolo County, CA', 'Santa Clara County, CA',\n",
       "       'Grand Princess Cruise Ship', 'Douglas County, CO',\n",
       "       'Providence County, RI', 'Alameda County, CA',\n",
       "       'Broward County, FL', 'Fairfield County, CT', 'Lee County, FL',\n",
       "       'Pinal County, AZ', 'Rockland County, NY', 'Saratoga County, NY',\n",
       "       'Edmonton, Alberta', 'Charleston County, SC', 'Clark County, WA',\n",
       "       'Cobb County, GA', 'Davis County, UT', 'El Paso County, CO',\n",
       "       'Honolulu County, HI', 'Jackson County, OR ',\n",
       "       'Jefferson County, WA', 'Kershaw County, SC', 'Klamath County, OR',\n",
       "       'Madera County, CA', 'Pierce County, WA', 'Plymouth County, MA',\n",
       "       'Santa Cruz County, CA', 'Tulsa County, OK',\n",
       "       'Montgomery County, TX', 'Norfolk County, MA',\n",
       "       'Montgomery County, PA', 'Fairfax County, VA',\n",
       "       'Rockingham County, NH', 'Washington, D.C.',\n",
       "       'Berkshire County, MA', 'Davidson County, TN',\n",
       "       'Douglas County, OR', 'Fresno County, CA', 'Harford County, MD',\n",
       "       'Hendricks County, IN', 'Hudson County, NJ', 'Johnson County, KS',\n",
       "       'Kittitas County, WA', 'Manatee County, FL', 'Marion County, OR',\n",
       "       'Okaloosa County, FL', 'Polk County, GA', 'Riverside County, CA',\n",
       "       'Shelby County, TN', 'Spokane County, WA', 'St. Louis County, MO',\n",
       "       'Suffolk County, NY', 'Ulster County, NY',\n",
       "       'Unassigned Location, VT', 'Unknown Location, MA',\n",
       "       'Volusia County, FL', 'Alberta', 'Quebec', 'Johnson County, IA',\n",
       "       'Harrison County, KY', 'Bennington County, VT',\n",
       "       'Carver County, MN', 'Charlotte County, FL', 'Cherokee County, GA',\n",
       "       'Collin County, TX', 'Jefferson County, KY',\n",
       "       'Jefferson Parish, LA', 'Shasta County, CA',\n",
       "       'Spartanburg County, SC', 'New York', 'Massachusetts',\n",
       "       'Grand Princess', 'Georgia', 'Colorado', 'Florida', 'New Jersey',\n",
       "       'Oregon', 'Texas', 'Pennsylvania', 'Iowa', 'Maryland',\n",
       "       'North Carolina', 'South Carolina', 'Tennessee', 'Virginia',\n",
       "       'Indiana', 'Kentucky', 'District of Columbia', 'Nevada',\n",
       "       'New Hampshire', 'Minnesota', 'Nebraska', 'Ohio', 'Rhode Island',\n",
       "       'Wisconsin', 'Connecticut', 'Hawaii', 'Oklahoma', 'Utah', 'Kansas',\n",
       "       'Louisiana', 'Missouri', 'Vermont', 'Alaska', 'Arkansas',\n",
       "       'Delaware', 'Idaho', 'Maine', 'Michigan', 'Mississippi', 'Montana',\n",
       "       'New Mexico', 'North Dakota', 'South Dakota', 'West Virginia',\n",
       "       'Wyoming', 'France', 'UK', 'Denmark', 'Faroe Islands', 'St Martin',\n",
       "       'Channel Islands', 'New Brunswick', 'Saint Barthelemy',\n",
       "       'Gibraltar', 'Australian Capital Territory', 'United Kingdom',\n",
       "       'French Polynesia', 'Manitoba', 'Saskatchewan', 'Alabama',\n",
       "       'Fench Guiana', 'Puerto Rico', 'Virgin Islands, U.S.',\n",
       "       'French Guiana', 'Guam', 'Newfoundland and Labrador',\n",
       "       'Prince Edward Island', 'Mayotte', 'Netherlands', 'Nova Scotia',\n",
       "       'Guadeloupe', 'Curacao', 'Virgin Islands', 'Cayman Islands',\n",
       "       'Reunion', 'Aruba', 'United States Virgin Islands', 'US',\n",
       "       'Montserrat', 'Greenland', 'New Caledonia', 'Bermuda',\n",
       "       'Sint Maarten', 'Isle of Man', 'Northwest Territories',\n",
       "       'American Samoa', 'External territories', 'Jervis Bay Territory',\n",
       "       'Martinique', 'Northern Mariana Islands', 'Nunavut',\n",
       "       'Saint Helena, Ascension and Tristan da Cunha', 'Wuhan Evacuee',\n",
       "       'Recovered', 'Yukon', 'Anguilla', 'British Virgin Islands',\n",
       "       'Turks and Caicos Islands', 'Bonaire, Sint Eustatius and Saba',\n",
       "       'Falkland Islands (Islas Malvinas)', 'Saint Pierre and Miquelon',\n",
       "       'Falkland Islands (Malvinas)', 'Abruzzo', 'Andalusia', 'Aragon',\n",
       "       'Asturias', 'Baden-Wurttemberg', 'Baleares', 'Basilicata',\n",
       "       'Bayern', 'Berlin', 'Brandenburg', 'Bremen', 'C. Valenciana',\n",
       "       'Calabria', 'Campania', 'Canarias', 'Cantabria',\n",
       "       'Castilla - La Mancha', 'Castilla y Leon', 'Catalonia', 'Ceuta',\n",
       "       'Emilia-Romagna', 'Extremadura', 'Friuli Venezia Giulia',\n",
       "       'Galicia', 'Hamburg', 'Hessen', 'La Rioja', 'Lazio', 'Liguria',\n",
       "       'Lombardia', 'Madrid', 'Marche', 'Mecklenburg-Vorpommern',\n",
       "       'Melilla', 'Molise', 'Murcia', 'Navarra', 'Niedersachsen',\n",
       "       'Nordrhein-Westfalen', 'P.A. Bolzano', 'P.A. Trento', 'Pais Vasco',\n",
       "       'Piemonte', 'Puglia', 'Rheinland-Pfalz', 'Saarland', 'Sachsen',\n",
       "       'Sachsen-Anhalt', 'Sardegna', 'Schleswig-Holstein', 'Sicilia',\n",
       "       'Thuringen', 'Toscana', 'Umbria', \"Valle d'Aosta\", 'Veneto',\n",
       "       'Acre', 'Aguascalientes', 'Alagoas', 'Amapa', 'Amazonas',\n",
       "       'Antofagasta', 'Araucania', 'Arica y Parinacota', 'Atacama',\n",
       "       'Aysen', 'Bahia', 'Baja California', 'Baja California Sur',\n",
       "       'Biobio', 'Campeche', 'Ceara', 'Chiapas', 'Chihuahua',\n",
       "       'Ciudad de Mexico', 'Coahuila', 'Colima', 'Coquimbo',\n",
       "       'Distrito Federal', 'Durango', 'Espirito Santo', 'Goias',\n",
       "       'Guanajuato', 'Guerrero', 'Hidalgo', 'Jalisco', 'Los Lagos',\n",
       "       'Los Rios', 'Magallanes', 'Maranhao', 'Mato Grosso',\n",
       "       'Mato Grosso do Sul', 'Maule', 'Metropolitana', 'Mexico',\n",
       "       'Michoacan', 'Minas Gerais', 'Morelos', 'Nayarit', 'Nuble',\n",
       "       'Nuevo Leon', 'OHiggins', 'Oaxaca', 'Para', 'Paraiba', 'Parana',\n",
       "       'Pernambuco', 'Piaui', 'Puebla', 'Queretaro', 'Quintana Roo',\n",
       "       'Rio Grande do Norte', 'Rio Grande do Sul', 'Rio de Janeiro',\n",
       "       'Rondonia', 'Roraima', 'San Luis Potosi', 'Santa Catarina',\n",
       "       'Sao Paulo', 'Sergipe', 'Sinaloa', 'Sonora', 'Tabasco',\n",
       "       'Tamaulipas', 'Tarapaca', 'Tlaxcala', 'Tocantins', 'Valparaiso',\n",
       "       'Veracruz', 'Yucatan', 'Zacatecas', 'Aichi', 'Akita', 'Ancash',\n",
       "       'Antioquia', 'Aomori', 'Apurimac', 'Arauca', 'Arequipa',\n",
       "       'Atlantico', 'Ayacucho', 'Bolivar', 'Boyaca', 'Cajamarca',\n",
       "       'Caldas', 'Callao', 'Capital District', 'Caqueta', 'Casanare',\n",
       "       'Cauca', 'Cesar', 'Chiba', 'Choco', 'Cordoba', 'Cundinamarca',\n",
       "       'Cusco', 'Ehime', 'Fukui', 'Fukuoka', 'Fukushima', 'Gifu', 'Gunma',\n",
       "       'Hiroshima', 'Hokkaido', 'Huancavelica', 'Huanuco', 'Huila',\n",
       "       'Hyogo', 'Ibaraki', 'Ica', 'Ishikawa', 'Junin', 'Kagawa',\n",
       "       'Kagoshima', 'Kanagawa', 'Kochi', 'Kumamoto', 'Kyoto',\n",
       "       'La Guajira', 'La Libertad', 'Lambayeque', 'Lima', 'Loreto',\n",
       "       'Madre de Dios', 'Magdalena', 'Meta', 'Mie', 'Miyagi', 'Miyazaki',\n",
       "       'Moquegua', 'Nagano', 'Nagasaki', 'Nara', 'Narino', 'Niigata',\n",
       "       'Norte de Santander', 'Oita', 'Okayama', 'Okinawa', 'Osaka',\n",
       "       'Pasco', 'Piura', 'Port Quarantine', 'Puno', 'Putumayo', 'Quindio',\n",
       "       'Risaralda', 'Saga', 'Saitama', 'San Andres y Providencia',\n",
       "       'San Martin', 'Santander', 'Shiga', 'Shimane', 'Shizuoka', 'Sucre',\n",
       "       'Tacna', 'Tochigi', 'Tokushima', 'Tokyo', 'Tolima', 'Tottori',\n",
       "       'Toyama', 'Tumbes', 'Ucayali', 'Valle del Cauca', 'Vaupes',\n",
       "       'Wakayama', 'Yamagata', 'Yamaguchi', 'Yamanashi', 'Guainia',\n",
       "       'Vichada', 'Adygea Republic', 'Altai Krai', 'Altai Republic',\n",
       "       'Amur Oblast', 'Arkhangelsk Oblast', 'Astrakhan Oblast',\n",
       "       'Bashkortostan Republic', 'Belgorod Oblast', 'Bryansk Oblast',\n",
       "       'Buryatia Republic', 'Chechen Republic', 'Chelyabinsk Oblast',\n",
       "       'Cherkasy Oblast', 'Chernihiv Oblast', 'Chernivtsi Oblast',\n",
       "       'Chukotka Autonomous Okrug', 'Chuvashia Republic',\n",
       "       'Crimea Republic*', 'Dagestan Republic', 'Dnipropetrovsk Oblast',\n",
       "       'Donetsk Oblast', 'Ingushetia Republic', 'Irkutsk Oblast',\n",
       "       'Ivano-Frankivsk Oblast', 'Ivanovo Oblast',\n",
       "       'Jewish Autonomous Okrug', 'Kabardino-Balkarian Republic',\n",
       "       'Kaliningrad Oblast', 'Kalmykia Republic', 'Kaluga Oblast',\n",
       "       'Kamchatka Krai', 'Karachay-Cherkess Republic', 'Karelia Republic',\n",
       "       'Kemerovo Oblast', 'Khabarovsk Krai', 'Khakassia Republic',\n",
       "       'Khanty-Mansi Autonomous Okrug', 'Kharkiv Oblast',\n",
       "       'Kherson Oblast', 'Khmelnytskyi Oblast', 'Kiev', 'Kiev Oblast',\n",
       "       'Kirov Oblast', 'Kirovohrad Oblast', 'Komi Republic',\n",
       "       'Kostroma Oblast', 'Krasnodar Krai', 'Krasnoyarsk Krai',\n",
       "       'Kurgan Oblast', 'Kursk Oblast', 'Leningrad Oblast',\n",
       "       'Lipetsk Oblast', 'Luhansk Oblast', 'Lviv Oblast',\n",
       "       'Magadan Oblast', 'Mari El Republic', 'Mordovia Republic',\n",
       "       'Moscow', 'Moscow Oblast', 'Murmansk Oblast', 'Mykolaiv Oblast',\n",
       "       'Nenets Autonomous Okrug', 'Nizhny Novgorod Oblast',\n",
       "       'North Ossetia - Alania Republic', 'Novgorod Oblast',\n",
       "       'Novosibirsk Oblast', 'Odessa Oblast', 'Omsk Oblast',\n",
       "       'Orel Oblast', 'Orenburg Oblast', 'Penza Oblast', 'Perm Krai',\n",
       "       'Poltava Oblast', 'Primorsky Krai', 'Pskov Oblast', 'Rivne Oblast',\n",
       "       'Rostov Oblast', 'Ryazan Oblast', 'Saint Petersburg',\n",
       "       'Sakha (Yakutiya) Republic', 'Sakhalin Oblast', 'Samara Oblast',\n",
       "       'Saratov Oblast', 'Sevastopol*', 'Smolensk Oblast',\n",
       "       'Stavropol Krai', 'Sumy Oblast', 'Sverdlovsk Oblast',\n",
       "       'Tambov Oblast', 'Tatarstan Republic', 'Ternopil Oblast',\n",
       "       'Tomsk Oblast', 'Tula Oblast', 'Tver Oblast', 'Tyumen Oblast',\n",
       "       'Tyva Republic', 'Udmurt Republic', 'Ulyanovsk Oblast',\n",
       "       'Vinnytsia Oblast', 'Vladimir Oblast', 'Volgograd Oblast',\n",
       "       'Vologda Oblast', 'Volyn Oblast', 'Voronezh Oblast',\n",
       "       'Yamalo-Nenets Autonomous Okrug', 'Yaroslavl Oblast',\n",
       "       'Zabaykalsky Krai', 'Zakarpattia Oblast', 'Zaporizhia Oblast',\n",
       "       'Zhytomyr Oblast', 'Blekinge', 'Dalarna', 'Gavleborg', 'Gotland',\n",
       "       'Halland', 'Jamtland Harjedalen', 'Jonkoping', 'Kalmar',\n",
       "       'Kronoberg', 'Norrbotten', 'Orebro', 'Ostergotland', 'Skane',\n",
       "       'Sormland', 'Stockholm', 'Uppsala', 'Varmland', 'Vasterbotten',\n",
       "       'Vasternorrland', 'Vastmanland', 'Vastra Gotaland', 'Guaviare',\n",
       "       'Andaman and Nicobar Islands', 'Andhra Pradesh',\n",
       "       'Arunachal Pradesh', 'Assam', 'Azad Jammu and Kashmir',\n",
       "       'Balochistan', 'Bihar', 'Chandigarh', 'Chhattisgarh',\n",
       "       'Dadar Nagar Haveli', 'Delhi', 'Gilgit-Baltistan', 'Goa',\n",
       "       'Gujarat', 'Haryana', 'Himachal Pradesh', 'Islamabad',\n",
       "       'Jammu and Kashmir', 'Jharkhand', 'Karnataka', 'Kerala',\n",
       "       'Khyber Pakhtunkhwa', 'Ladakh', 'Madhya Pradesh', 'Maharashtra',\n",
       "       'Manipur', 'Meghalaya', 'Mizoram', 'Nagaland', 'Odisha',\n",
       "       'Puducherry', 'Punjab', 'Rajasthan', 'Sikkim', 'Sindh',\n",
       "       'Tamil Nadu', 'Telangana', 'Tripura', 'Uttar Pradesh',\n",
       "       'Uttarakhand', 'West Bengal',\n",
       "       'Dadra and Nagar Haveli and Daman and Diu', 'England',\n",
       "       'Northern Ireland', 'Scotland', 'Wales', 'Drenthe', 'Flevoland',\n",
       "       'Friesland', 'Gelderland', 'Groningen', 'Limburg', 'Noord-Brabant',\n",
       "       'Noord-Holland', 'Overijssel', 'Utrecht', 'Zeeland',\n",
       "       'Zuid-Holland', 'Iwate', 'Lakshadweep', 'Antwerp', 'Brussels',\n",
       "       'East Flanders', 'Flemish Brabant', 'Hainaut', 'Liege',\n",
       "       'Luxembourg', 'Namur', 'Walloon Brabant', 'West Flanders',\n",
       "       'Repatriated Travellers', 'Wallis and Futuna'], dtype=object)"
      ]
     },
     "execution_count": 5,
     "metadata": {},
     "output_type": "execute_result"
    }
   ],
   "source": [
    "df['Province/State'].unique()"
   ]
  },
  {
   "cell_type": "code",
   "execution_count": 6,
   "id": "71ff9e96",
   "metadata": {
    "execution": {
     "iopub.execute_input": "2025-07-07T13:40:13.399523Z",
     "iopub.status.busy": "2025-07-07T13:40:13.399130Z",
     "iopub.status.idle": "2025-07-07T13:40:13.422848Z",
     "shell.execute_reply": "2025-07-07T13:40:13.421581Z"
    },
    "papermill": {
     "duration": 0.030496,
     "end_time": "2025-07-07T13:40:13.424670",
     "exception": false,
     "start_time": "2025-07-07T13:40:13.394174",
     "status": "completed"
    },
    "tags": []
   },
   "outputs": [],
   "source": [
    "b = df['Country/Region'].unique()"
   ]
  },
  {
   "cell_type": "code",
   "execution_count": 7,
   "id": "7cf808ae",
   "metadata": {
    "execution": {
     "iopub.execute_input": "2025-07-07T13:40:13.433982Z",
     "iopub.status.busy": "2025-07-07T13:40:13.433600Z",
     "iopub.status.idle": "2025-07-07T13:40:13.440941Z",
     "shell.execute_reply": "2025-07-07T13:40:13.439965Z"
    },
    "papermill": {
     "duration": 0.0139,
     "end_time": "2025-07-07T13:40:13.442555",
     "exception": false,
     "start_time": "2025-07-07T13:40:13.428655",
     "status": "completed"
    },
    "tags": []
   },
   "outputs": [
    {
     "data": {
      "text/plain": [
       "array(['Mainland China', 'Hong Kong', 'Macau', 'Taiwan', 'US', 'Japan',\n",
       "       'Thailand', 'South Korea', 'China', 'Kiribati', 'Singapore',\n",
       "       'Philippines', 'Malaysia', 'Vietnam', 'Australia', 'Mexico',\n",
       "       'Brazil', 'Colombia', 'France', 'Nepal', 'Canada', 'Cambodia',\n",
       "       'Sri Lanka', 'Ivory Coast', 'Germany', 'Finland',\n",
       "       'United Arab Emirates', 'India', 'Italy', 'UK', 'Russia', 'Sweden',\n",
       "       'Spain', 'Belgium', 'Others', 'Egypt', 'Iran', 'Israel', 'Lebanon',\n",
       "       'Iraq', 'Oman', 'Afghanistan', 'Bahrain', 'Kuwait', 'Austria',\n",
       "       'Algeria', 'Croatia', 'Switzerland', 'Pakistan', 'Georgia',\n",
       "       'Greece', 'North Macedonia', 'Norway', 'Romania', 'Denmark',\n",
       "       'Estonia', 'Netherlands', 'San Marino', ' Azerbaijan', 'Belarus',\n",
       "       'Iceland', 'Lithuania', 'New Zealand', 'Nigeria', 'North Ireland',\n",
       "       'Ireland', 'Luxembourg', 'Monaco', 'Qatar', 'Ecuador',\n",
       "       'Azerbaijan', 'Czech Republic', 'Armenia', 'Dominican Republic',\n",
       "       'Indonesia', 'Portugal', 'Andorra', 'Latvia', 'Morocco',\n",
       "       'Saudi Arabia', 'Senegal', 'Argentina', 'Chile', 'Jordan',\n",
       "       'Ukraine', 'Saint Barthelemy', 'Hungary', 'Faroe Islands',\n",
       "       'Gibraltar', 'Liechtenstein', 'Poland', 'Tunisia', 'Palestine',\n",
       "       'Bosnia and Herzegovina', 'Slovenia', 'South Africa', 'Bhutan',\n",
       "       'Cameroon', 'Costa Rica', 'Peru', 'Serbia', 'Slovakia', 'Togo',\n",
       "       'Vatican City', 'French Guiana', 'Malta', 'Martinique',\n",
       "       'Republic of Ireland', 'Bulgaria', 'Maldives', 'Bangladesh',\n",
       "       'Moldova', 'Paraguay', 'Albania', 'Cyprus', 'St. Martin', 'Brunei',\n",
       "       'occupied Palestinian territory', \"('St. Martin',)\",\n",
       "       'Burkina Faso', 'Channel Islands', 'Holy See', 'Mongolia',\n",
       "       'Panama', 'Bolivia', 'Honduras', 'Congo (Kinshasa)', 'Jamaica',\n",
       "       'Reunion', 'Turkey', 'Cuba', 'Guyana', 'Kazakhstan',\n",
       "       'Cayman Islands', 'Guadeloupe', 'Ethiopia', 'Sudan', 'Guinea',\n",
       "       'Antigua and Barbuda', 'Aruba', 'Kenya', 'Uruguay', 'Ghana',\n",
       "       'Jersey', 'Namibia', 'Seychelles', 'Trinidad and Tobago',\n",
       "       'Venezuela', 'Curacao', 'Eswatini', 'Gabon', 'Guatemala',\n",
       "       'Guernsey', 'Mauritania', 'Rwanda', 'Saint Lucia',\n",
       "       'Saint Vincent and the Grenadines', 'Suriname', 'Kosovo',\n",
       "       'Central African Republic', 'Congo (Brazzaville)',\n",
       "       'Equatorial Guinea', 'Uzbekistan', 'Guam', 'Puerto Rico', 'Benin',\n",
       "       'Greenland', 'Liberia', 'Mayotte', 'Republic of the Congo',\n",
       "       'Somalia', 'Tanzania', 'The Bahamas', 'Barbados', 'Montenegro',\n",
       "       'The Gambia', 'Kyrgyzstan', 'Mauritius', 'Zambia', 'Djibouti',\n",
       "       'Gambia, The', 'Bahamas, The', 'Chad', 'El Salvador', 'Fiji',\n",
       "       'Nicaragua', 'Madagascar', 'Haiti', 'Angola', 'Cabo Verde',\n",
       "       'Niger', 'Papua New Guinea', 'Zimbabwe', 'Cape Verde',\n",
       "       'East Timor', 'Eritrea', 'Uganda', 'Bahamas', 'Dominica', 'Gambia',\n",
       "       'Grenada', 'Mozambique', 'Samoa', 'Syria', 'Timor-Leste', 'Belize',\n",
       "       'Laos', 'Libya', 'Diamond Princess', 'Guinea-Bissau', 'Mali',\n",
       "       'Saint Kitts and Nevis', 'West Bank and Gaza', 'Burma',\n",
       "       'MS Zaandam', 'Botswana', 'Burundi', 'Sierra Leone', 'Malawi',\n",
       "       'South Sudan', 'Sao Tome and Principe', 'Yemen', 'Comoros',\n",
       "       'Tajikistan', 'Lesotho', 'Solomon Islands', 'Marshall Islands',\n",
       "       'Vanuatu', 'Micronesia'], dtype=object)"
      ]
     },
     "execution_count": 7,
     "metadata": {},
     "output_type": "execute_result"
    }
   ],
   "source": [
    "b"
   ]
  },
  {
   "cell_type": "code",
   "execution_count": 8,
   "id": "8c566d38",
   "metadata": {
    "execution": {
     "iopub.execute_input": "2025-07-07T13:40:13.452058Z",
     "iopub.status.busy": "2025-07-07T13:40:13.451760Z",
     "iopub.status.idle": "2025-07-07T13:40:13.458185Z",
     "shell.execute_reply": "2025-07-07T13:40:13.457286Z"
    },
    "papermill": {
     "duration": 0.013465,
     "end_time": "2025-07-07T13:40:13.460300",
     "exception": false,
     "start_time": "2025-07-07T13:40:13.446835",
     "status": "completed"
    },
    "tags": []
   },
   "outputs": [
    {
     "data": {
      "text/plain": [
       "1"
      ]
     },
     "execution_count": 8,
     "metadata": {},
     "output_type": "execute_result"
    }
   ],
   "source": [
    "b.ndim"
   ]
  },
  {
   "cell_type": "code",
   "execution_count": 9,
   "id": "6bb6c730",
   "metadata": {
    "execution": {
     "iopub.execute_input": "2025-07-07T13:40:13.470377Z",
     "iopub.status.busy": "2025-07-07T13:40:13.469592Z",
     "iopub.status.idle": "2025-07-07T13:40:13.492005Z",
     "shell.execute_reply": "2025-07-07T13:40:13.491130Z"
    },
    "papermill": {
     "duration": 0.028896,
     "end_time": "2025-07-07T13:40:13.493639",
     "exception": false,
     "start_time": "2025-07-07T13:40:13.464743",
     "status": "completed"
    },
    "tags": []
   },
   "outputs": [
    {
     "data": {
      "text/plain": [
       "229"
      ]
     },
     "execution_count": 9,
     "metadata": {},
     "output_type": "execute_result"
    }
   ],
   "source": [
    "df['Country/Region'].nunique()"
   ]
  },
  {
   "cell_type": "code",
   "execution_count": 10,
   "id": "9511db91",
   "metadata": {
    "execution": {
     "iopub.execute_input": "2025-07-07T13:40:13.503394Z",
     "iopub.status.busy": "2025-07-07T13:40:13.503071Z",
     "iopub.status.idle": "2025-07-07T13:40:13.526194Z",
     "shell.execute_reply": "2025-07-07T13:40:13.525161Z"
    },
    "papermill": {
     "duration": 0.029974,
     "end_time": "2025-07-07T13:40:13.527914",
     "exception": false,
     "start_time": "2025-07-07T13:40:13.497940",
     "status": "completed"
    },
    "tags": []
   },
   "outputs": [
    {
     "data": {
      "text/plain": [
       "114637780.60262008"
      ]
     },
     "execution_count": 10,
     "metadata": {},
     "output_type": "execute_result"
    }
   ],
   "source": [
    "df['Confirmed'].sum() / df['Country/Region'].nunique()"
   ]
  },
  {
   "cell_type": "code",
   "execution_count": null,
   "id": "cbf8b82b",
   "metadata": {
    "papermill": {
     "duration": 0.003915,
     "end_time": "2025-07-07T13:40:13.536233",
     "exception": false,
     "start_time": "2025-07-07T13:40:13.532318",
     "status": "completed"
    },
    "tags": []
   },
   "outputs": [],
   "source": []
  },
  {
   "cell_type": "code",
   "execution_count": null,
   "id": "dae19a1d",
   "metadata": {
    "papermill": {
     "duration": 0.004319,
     "end_time": "2025-07-07T13:40:13.544602",
     "exception": false,
     "start_time": "2025-07-07T13:40:13.540283",
     "status": "completed"
    },
    "tags": []
   },
   "outputs": [],
   "source": []
  },
  {
   "cell_type": "code",
   "execution_count": null,
   "id": "bb271afb",
   "metadata": {
    "papermill": {
     "duration": 0.003693,
     "end_time": "2025-07-07T13:40:13.552454",
     "exception": false,
     "start_time": "2025-07-07T13:40:13.548761",
     "status": "completed"
    },
    "tags": []
   },
   "outputs": [],
   "source": []
  }
 ],
 "metadata": {
  "kaggle": {
   "accelerator": "none",
   "dataSources": [
    {
     "datasetId": 494724,
     "sourceId": 2364896,
     "sourceType": "datasetVersion"
    }
   ],
   "dockerImageVersionId": 31040,
   "isGpuEnabled": false,
   "isInternetEnabled": true,
   "language": "python",
   "sourceType": "notebook"
  },
  "kernelspec": {
   "display_name": "Python 3",
   "language": "python",
   "name": "python3"
  },
  "language_info": {
   "codemirror_mode": {
    "name": "ipython",
    "version": 3
   },
   "file_extension": ".py",
   "mimetype": "text/x-python",
   "name": "python",
   "nbconvert_exporter": "python",
   "pygments_lexer": "ipython3",
   "version": "3.11.11"
  },
  "papermill": {
   "default_parameters": {},
   "duration": 9.135266,
   "end_time": "2025-07-07T13:40:14.078017",
   "environment_variables": {},
   "exception": null,
   "input_path": "__notebook__.ipynb",
   "output_path": "__notebook__.ipynb",
   "parameters": {},
   "start_time": "2025-07-07T13:40:04.942751",
   "version": "2.6.0"
  }
 },
 "nbformat": 4,
 "nbformat_minor": 5
}
