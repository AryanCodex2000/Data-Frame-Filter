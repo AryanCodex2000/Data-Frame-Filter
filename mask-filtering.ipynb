{
 "cells": [
  {
   "cell_type": "code",
   "execution_count": 1,
   "id": "082bbc5b",
   "metadata": {
    "_cell_guid": "b1076dfc-b9ad-4769-8c92-a6c4dae69d19",
    "_uuid": "8f2839f25d086af736a60e9eeb907d3b93b6e0e5",
    "execution": {
     "iopub.execute_input": "2025-07-06T20:26:24.842835Z",
     "iopub.status.busy": "2025-07-06T20:26:24.841794Z",
     "iopub.status.idle": "2025-07-06T20:26:26.875211Z",
     "shell.execute_reply": "2025-07-06T20:26:26.874228Z"
    },
    "papermill": {
     "duration": 2.041554,
     "end_time": "2025-07-06T20:26:26.876943",
     "exception": false,
     "start_time": "2025-07-06T20:26:24.835389",
     "status": "completed"
    },
    "tags": []
   },
   "outputs": [],
   "source": [
    "import numpy as np \n",
    "import pandas as pd "
   ]
  },
  {
   "cell_type": "code",
   "execution_count": 2,
   "id": "09295760",
   "metadata": {
    "execution": {
     "iopub.execute_input": "2025-07-06T20:26:26.887607Z",
     "iopub.status.busy": "2025-07-06T20:26:26.886704Z",
     "iopub.status.idle": "2025-07-06T20:26:27.705930Z",
     "shell.execute_reply": "2025-07-06T20:26:27.704922Z"
    },
    "papermill": {
     "duration": 0.825914,
     "end_time": "2025-07-06T20:26:27.707519",
     "exception": false,
     "start_time": "2025-07-06T20:26:26.881605",
     "status": "completed"
    },
    "tags": []
   },
   "outputs": [
    {
     "data": {
      "text/html": [
       "<div>\n",
       "<style scoped>\n",
       "    .dataframe tbody tr th:only-of-type {\n",
       "        vertical-align: middle;\n",
       "    }\n",
       "\n",
       "    .dataframe tbody tr th {\n",
       "        vertical-align: top;\n",
       "    }\n",
       "\n",
       "    .dataframe thead th {\n",
       "        text-align: right;\n",
       "    }\n",
       "</style>\n",
       "<table border=\"1\" class=\"dataframe\">\n",
       "  <thead>\n",
       "    <tr style=\"text-align: right;\">\n",
       "      <th></th>\n",
       "      <th>SNo</th>\n",
       "      <th>ObservationDate</th>\n",
       "      <th>Province/State</th>\n",
       "      <th>Country/Region</th>\n",
       "      <th>Last Update</th>\n",
       "      <th>Confirmed</th>\n",
       "      <th>Deaths</th>\n",
       "      <th>Recovered</th>\n",
       "    </tr>\n",
       "  </thead>\n",
       "  <tbody>\n",
       "    <tr>\n",
       "      <th>0</th>\n",
       "      <td>1</td>\n",
       "      <td>01/22/2020</td>\n",
       "      <td>Anhui</td>\n",
       "      <td>Mainland China</td>\n",
       "      <td>1/22/2020 17:00</td>\n",
       "      <td>1.0</td>\n",
       "      <td>0.0</td>\n",
       "      <td>0.0</td>\n",
       "    </tr>\n",
       "    <tr>\n",
       "      <th>1</th>\n",
       "      <td>2</td>\n",
       "      <td>01/22/2020</td>\n",
       "      <td>Beijing</td>\n",
       "      <td>Mainland China</td>\n",
       "      <td>1/22/2020 17:00</td>\n",
       "      <td>14.0</td>\n",
       "      <td>0.0</td>\n",
       "      <td>0.0</td>\n",
       "    </tr>\n",
       "    <tr>\n",
       "      <th>2</th>\n",
       "      <td>3</td>\n",
       "      <td>01/22/2020</td>\n",
       "      <td>Chongqing</td>\n",
       "      <td>Mainland China</td>\n",
       "      <td>1/22/2020 17:00</td>\n",
       "      <td>6.0</td>\n",
       "      <td>0.0</td>\n",
       "      <td>0.0</td>\n",
       "    </tr>\n",
       "    <tr>\n",
       "      <th>3</th>\n",
       "      <td>4</td>\n",
       "      <td>01/22/2020</td>\n",
       "      <td>Fujian</td>\n",
       "      <td>Mainland China</td>\n",
       "      <td>1/22/2020 17:00</td>\n",
       "      <td>1.0</td>\n",
       "      <td>0.0</td>\n",
       "      <td>0.0</td>\n",
       "    </tr>\n",
       "    <tr>\n",
       "      <th>4</th>\n",
       "      <td>5</td>\n",
       "      <td>01/22/2020</td>\n",
       "      <td>Gansu</td>\n",
       "      <td>Mainland China</td>\n",
       "      <td>1/22/2020 17:00</td>\n",
       "      <td>0.0</td>\n",
       "      <td>0.0</td>\n",
       "      <td>0.0</td>\n",
       "    </tr>\n",
       "    <tr>\n",
       "      <th>...</th>\n",
       "      <td>...</td>\n",
       "      <td>...</td>\n",
       "      <td>...</td>\n",
       "      <td>...</td>\n",
       "      <td>...</td>\n",
       "      <td>...</td>\n",
       "      <td>...</td>\n",
       "      <td>...</td>\n",
       "    </tr>\n",
       "    <tr>\n",
       "      <th>306424</th>\n",
       "      <td>306425</td>\n",
       "      <td>05/29/2021</td>\n",
       "      <td>Zaporizhia Oblast</td>\n",
       "      <td>Ukraine</td>\n",
       "      <td>2021-05-30 04:20:55</td>\n",
       "      <td>102641.0</td>\n",
       "      <td>2335.0</td>\n",
       "      <td>95289.0</td>\n",
       "    </tr>\n",
       "    <tr>\n",
       "      <th>306425</th>\n",
       "      <td>306426</td>\n",
       "      <td>05/29/2021</td>\n",
       "      <td>Zeeland</td>\n",
       "      <td>Netherlands</td>\n",
       "      <td>2021-05-30 04:20:55</td>\n",
       "      <td>29147.0</td>\n",
       "      <td>245.0</td>\n",
       "      <td>0.0</td>\n",
       "    </tr>\n",
       "    <tr>\n",
       "      <th>306426</th>\n",
       "      <td>306427</td>\n",
       "      <td>05/29/2021</td>\n",
       "      <td>Zhejiang</td>\n",
       "      <td>Mainland China</td>\n",
       "      <td>2021-05-30 04:20:55</td>\n",
       "      <td>1364.0</td>\n",
       "      <td>1.0</td>\n",
       "      <td>1324.0</td>\n",
       "    </tr>\n",
       "    <tr>\n",
       "      <th>306427</th>\n",
       "      <td>306428</td>\n",
       "      <td>05/29/2021</td>\n",
       "      <td>Zhytomyr Oblast</td>\n",
       "      <td>Ukraine</td>\n",
       "      <td>2021-05-30 04:20:55</td>\n",
       "      <td>87550.0</td>\n",
       "      <td>1738.0</td>\n",
       "      <td>83790.0</td>\n",
       "    </tr>\n",
       "    <tr>\n",
       "      <th>306428</th>\n",
       "      <td>306429</td>\n",
       "      <td>05/29/2021</td>\n",
       "      <td>Zuid-Holland</td>\n",
       "      <td>Netherlands</td>\n",
       "      <td>2021-05-30 04:20:55</td>\n",
       "      <td>391559.0</td>\n",
       "      <td>4252.0</td>\n",
       "      <td>0.0</td>\n",
       "    </tr>\n",
       "  </tbody>\n",
       "</table>\n",
       "<p>306429 rows × 8 columns</p>\n",
       "</div>"
      ],
      "text/plain": [
       "           SNo ObservationDate     Province/State  Country/Region  \\\n",
       "0            1      01/22/2020              Anhui  Mainland China   \n",
       "1            2      01/22/2020            Beijing  Mainland China   \n",
       "2            3      01/22/2020          Chongqing  Mainland China   \n",
       "3            4      01/22/2020             Fujian  Mainland China   \n",
       "4            5      01/22/2020              Gansu  Mainland China   \n",
       "...        ...             ...                ...             ...   \n",
       "306424  306425      05/29/2021  Zaporizhia Oblast         Ukraine   \n",
       "306425  306426      05/29/2021            Zeeland     Netherlands   \n",
       "306426  306427      05/29/2021           Zhejiang  Mainland China   \n",
       "306427  306428      05/29/2021    Zhytomyr Oblast         Ukraine   \n",
       "306428  306429      05/29/2021       Zuid-Holland     Netherlands   \n",
       "\n",
       "                Last Update  Confirmed  Deaths  Recovered  \n",
       "0           1/22/2020 17:00        1.0     0.0        0.0  \n",
       "1           1/22/2020 17:00       14.0     0.0        0.0  \n",
       "2           1/22/2020 17:00        6.0     0.0        0.0  \n",
       "3           1/22/2020 17:00        1.0     0.0        0.0  \n",
       "4           1/22/2020 17:00        0.0     0.0        0.0  \n",
       "...                     ...        ...     ...        ...  \n",
       "306424  2021-05-30 04:20:55   102641.0  2335.0    95289.0  \n",
       "306425  2021-05-30 04:20:55    29147.0   245.0        0.0  \n",
       "306426  2021-05-30 04:20:55     1364.0     1.0     1324.0  \n",
       "306427  2021-05-30 04:20:55    87550.0  1738.0    83790.0  \n",
       "306428  2021-05-30 04:20:55   391559.0  4252.0        0.0  \n",
       "\n",
       "[306429 rows x 8 columns]"
      ]
     },
     "execution_count": 2,
     "metadata": {},
     "output_type": "execute_result"
    }
   ],
   "source": [
    "a = pd.read_csv('/kaggle/input/corona-virus-data-set-part-2-on-kaggle/covid_19_data.csv')\n",
    "a"
   ]
  },
  {
   "cell_type": "code",
   "execution_count": 3,
   "id": "7e2d9663",
   "metadata": {
    "execution": {
     "iopub.execute_input": "2025-07-06T20:26:27.718232Z",
     "iopub.status.busy": "2025-07-06T20:26:27.717821Z",
     "iopub.status.idle": "2025-07-06T20:26:27.829622Z",
     "shell.execute_reply": "2025-07-06T20:26:27.828262Z"
    },
    "papermill": {
     "duration": 0.11928,
     "end_time": "2025-07-06T20:26:27.831344",
     "exception": false,
     "start_time": "2025-07-06T20:26:27.712064",
     "status": "completed"
    },
    "tags": []
   },
   "outputs": [
    {
     "name": "stdout",
     "output_type": "stream",
     "text": [
      "<class 'pandas.core.frame.DataFrame'>\n",
      "RangeIndex: 306429 entries, 0 to 306428\n",
      "Data columns (total 8 columns):\n",
      " #   Column           Non-Null Count   Dtype  \n",
      "---  ------           --------------   -----  \n",
      " 0   SNo              306429 non-null  int64  \n",
      " 1   ObservationDate  306429 non-null  object \n",
      " 2   Province/State   228326 non-null  object \n",
      " 3   Country/Region   306429 non-null  object \n",
      " 4   Last Update      306429 non-null  object \n",
      " 5   Confirmed        306429 non-null  float64\n",
      " 6   Deaths           306429 non-null  float64\n",
      " 7   Recovered        306429 non-null  float64\n",
      "dtypes: float64(3), int64(1), object(4)\n",
      "memory usage: 18.7+ MB\n"
     ]
    }
   ],
   "source": [
    "a.info()"
   ]
  },
  {
   "cell_type": "code",
   "execution_count": 4,
   "id": "0a0701a7",
   "metadata": {
    "execution": {
     "iopub.execute_input": "2025-07-06T20:26:27.842556Z",
     "iopub.status.busy": "2025-07-06T20:26:27.842152Z",
     "iopub.status.idle": "2025-07-06T20:26:27.891830Z",
     "shell.execute_reply": "2025-07-06T20:26:27.890803Z"
    },
    "papermill": {
     "duration": 0.0575,
     "end_time": "2025-07-06T20:26:27.893581",
     "exception": false,
     "start_time": "2025-07-06T20:26:27.836081",
     "status": "completed"
    },
    "tags": []
   },
   "outputs": [],
   "source": [
    "a['ObservationDate'] = pd.to_datetime(a['ObservationDate'])\n"
   ]
  },
  {
   "cell_type": "code",
   "execution_count": 5,
   "id": "622b1e47",
   "metadata": {
    "execution": {
     "iopub.execute_input": "2025-07-06T20:26:27.905367Z",
     "iopub.status.busy": "2025-07-06T20:26:27.904251Z",
     "iopub.status.idle": "2025-07-06T20:26:27.955292Z",
     "shell.execute_reply": "2025-07-06T20:26:27.954280Z"
    },
    "papermill": {
     "duration": 0.058952,
     "end_time": "2025-07-06T20:26:27.957186",
     "exception": false,
     "start_time": "2025-07-06T20:26:27.898234",
     "status": "completed"
    },
    "tags": []
   },
   "outputs": [],
   "source": [
    "a['Last Update'] = pd.to_datetime(a['Last Update'], format='mixed')"
   ]
  },
  {
   "cell_type": "code",
   "execution_count": 6,
   "id": "3d988b1d",
   "metadata": {
    "execution": {
     "iopub.execute_input": "2025-07-06T20:26:27.967901Z",
     "iopub.status.busy": "2025-07-06T20:26:27.967384Z",
     "iopub.status.idle": "2025-07-06T20:26:28.031154Z",
     "shell.execute_reply": "2025-07-06T20:26:28.029484Z"
    },
    "papermill": {
     "duration": 0.071304,
     "end_time": "2025-07-06T20:26:28.033077",
     "exception": false,
     "start_time": "2025-07-06T20:26:27.961773",
     "status": "completed"
    },
    "tags": []
   },
   "outputs": [
    {
     "name": "stdout",
     "output_type": "stream",
     "text": [
      "<class 'pandas.core.frame.DataFrame'>\n",
      "RangeIndex: 306429 entries, 0 to 306428\n",
      "Data columns (total 8 columns):\n",
      " #   Column           Non-Null Count   Dtype         \n",
      "---  ------           --------------   -----         \n",
      " 0   SNo              306429 non-null  int64         \n",
      " 1   ObservationDate  306429 non-null  datetime64[ns]\n",
      " 2   Province/State   228326 non-null  object        \n",
      " 3   Country/Region   306429 non-null  object        \n",
      " 4   Last Update      306429 non-null  datetime64[ns]\n",
      " 5   Confirmed        306429 non-null  float64       \n",
      " 6   Deaths           306429 non-null  float64       \n",
      " 7   Recovered        306429 non-null  float64       \n",
      "dtypes: datetime64[ns](2), float64(3), int64(1), object(2)\n",
      "memory usage: 18.7+ MB\n"
     ]
    }
   ],
   "source": [
    "a.info()"
   ]
  },
  {
   "cell_type": "code",
   "execution_count": 7,
   "id": "5e7291ab",
   "metadata": {
    "execution": {
     "iopub.execute_input": "2025-07-06T20:26:28.043635Z",
     "iopub.status.busy": "2025-07-06T20:26:28.043275Z",
     "iopub.status.idle": "2025-07-06T20:26:28.060221Z",
     "shell.execute_reply": "2025-07-06T20:26:28.059128Z"
    },
    "papermill": {
     "duration": 0.023933,
     "end_time": "2025-07-06T20:26:28.061756",
     "exception": false,
     "start_time": "2025-07-06T20:26:28.037823",
     "status": "completed"
    },
    "tags": []
   },
   "outputs": [
    {
     "data": {
      "text/html": [
       "<div>\n",
       "<style scoped>\n",
       "    .dataframe tbody tr th:only-of-type {\n",
       "        vertical-align: middle;\n",
       "    }\n",
       "\n",
       "    .dataframe tbody tr th {\n",
       "        vertical-align: top;\n",
       "    }\n",
       "\n",
       "    .dataframe thead th {\n",
       "        text-align: right;\n",
       "    }\n",
       "</style>\n",
       "<table border=\"1\" class=\"dataframe\">\n",
       "  <thead>\n",
       "    <tr style=\"text-align: right;\">\n",
       "      <th></th>\n",
       "      <th>SNo</th>\n",
       "      <th>ObservationDate</th>\n",
       "      <th>Province/State</th>\n",
       "      <th>Country/Region</th>\n",
       "      <th>Last Update</th>\n",
       "      <th>Confirmed</th>\n",
       "      <th>Deaths</th>\n",
       "      <th>Recovered</th>\n",
       "    </tr>\n",
       "  </thead>\n",
       "  <tbody>\n",
       "    <tr>\n",
       "      <th>0</th>\n",
       "      <td>1</td>\n",
       "      <td>2020-01-22</td>\n",
       "      <td>Anhui</td>\n",
       "      <td>Mainland China</td>\n",
       "      <td>2020-01-22 17:00:00</td>\n",
       "      <td>1.0</td>\n",
       "      <td>0.0</td>\n",
       "      <td>0.0</td>\n",
       "    </tr>\n",
       "    <tr>\n",
       "      <th>1</th>\n",
       "      <td>2</td>\n",
       "      <td>2020-01-22</td>\n",
       "      <td>Beijing</td>\n",
       "      <td>Mainland China</td>\n",
       "      <td>2020-01-22 17:00:00</td>\n",
       "      <td>14.0</td>\n",
       "      <td>0.0</td>\n",
       "      <td>0.0</td>\n",
       "    </tr>\n",
       "    <tr>\n",
       "      <th>2</th>\n",
       "      <td>3</td>\n",
       "      <td>2020-01-22</td>\n",
       "      <td>Chongqing</td>\n",
       "      <td>Mainland China</td>\n",
       "      <td>2020-01-22 17:00:00</td>\n",
       "      <td>6.0</td>\n",
       "      <td>0.0</td>\n",
       "      <td>0.0</td>\n",
       "    </tr>\n",
       "    <tr>\n",
       "      <th>3</th>\n",
       "      <td>4</td>\n",
       "      <td>2020-01-22</td>\n",
       "      <td>Fujian</td>\n",
       "      <td>Mainland China</td>\n",
       "      <td>2020-01-22 17:00:00</td>\n",
       "      <td>1.0</td>\n",
       "      <td>0.0</td>\n",
       "      <td>0.0</td>\n",
       "    </tr>\n",
       "    <tr>\n",
       "      <th>4</th>\n",
       "      <td>5</td>\n",
       "      <td>2020-01-22</td>\n",
       "      <td>Gansu</td>\n",
       "      <td>Mainland China</td>\n",
       "      <td>2020-01-22 17:00:00</td>\n",
       "      <td>0.0</td>\n",
       "      <td>0.0</td>\n",
       "      <td>0.0</td>\n",
       "    </tr>\n",
       "    <tr>\n",
       "      <th>...</th>\n",
       "      <td>...</td>\n",
       "      <td>...</td>\n",
       "      <td>...</td>\n",
       "      <td>...</td>\n",
       "      <td>...</td>\n",
       "      <td>...</td>\n",
       "      <td>...</td>\n",
       "      <td>...</td>\n",
       "    </tr>\n",
       "    <tr>\n",
       "      <th>306424</th>\n",
       "      <td>306425</td>\n",
       "      <td>2021-05-29</td>\n",
       "      <td>Zaporizhia Oblast</td>\n",
       "      <td>Ukraine</td>\n",
       "      <td>2021-05-30 04:20:55</td>\n",
       "      <td>102641.0</td>\n",
       "      <td>2335.0</td>\n",
       "      <td>95289.0</td>\n",
       "    </tr>\n",
       "    <tr>\n",
       "      <th>306425</th>\n",
       "      <td>306426</td>\n",
       "      <td>2021-05-29</td>\n",
       "      <td>Zeeland</td>\n",
       "      <td>Netherlands</td>\n",
       "      <td>2021-05-30 04:20:55</td>\n",
       "      <td>29147.0</td>\n",
       "      <td>245.0</td>\n",
       "      <td>0.0</td>\n",
       "    </tr>\n",
       "    <tr>\n",
       "      <th>306426</th>\n",
       "      <td>306427</td>\n",
       "      <td>2021-05-29</td>\n",
       "      <td>Zhejiang</td>\n",
       "      <td>Mainland China</td>\n",
       "      <td>2021-05-30 04:20:55</td>\n",
       "      <td>1364.0</td>\n",
       "      <td>1.0</td>\n",
       "      <td>1324.0</td>\n",
       "    </tr>\n",
       "    <tr>\n",
       "      <th>306427</th>\n",
       "      <td>306428</td>\n",
       "      <td>2021-05-29</td>\n",
       "      <td>Zhytomyr Oblast</td>\n",
       "      <td>Ukraine</td>\n",
       "      <td>2021-05-30 04:20:55</td>\n",
       "      <td>87550.0</td>\n",
       "      <td>1738.0</td>\n",
       "      <td>83790.0</td>\n",
       "    </tr>\n",
       "    <tr>\n",
       "      <th>306428</th>\n",
       "      <td>306429</td>\n",
       "      <td>2021-05-29</td>\n",
       "      <td>Zuid-Holland</td>\n",
       "      <td>Netherlands</td>\n",
       "      <td>2021-05-30 04:20:55</td>\n",
       "      <td>391559.0</td>\n",
       "      <td>4252.0</td>\n",
       "      <td>0.0</td>\n",
       "    </tr>\n",
       "  </tbody>\n",
       "</table>\n",
       "<p>306429 rows × 8 columns</p>\n",
       "</div>"
      ],
      "text/plain": [
       "           SNo ObservationDate     Province/State  Country/Region  \\\n",
       "0            1      2020-01-22              Anhui  Mainland China   \n",
       "1            2      2020-01-22            Beijing  Mainland China   \n",
       "2            3      2020-01-22          Chongqing  Mainland China   \n",
       "3            4      2020-01-22             Fujian  Mainland China   \n",
       "4            5      2020-01-22              Gansu  Mainland China   \n",
       "...        ...             ...                ...             ...   \n",
       "306424  306425      2021-05-29  Zaporizhia Oblast         Ukraine   \n",
       "306425  306426      2021-05-29            Zeeland     Netherlands   \n",
       "306426  306427      2021-05-29           Zhejiang  Mainland China   \n",
       "306427  306428      2021-05-29    Zhytomyr Oblast         Ukraine   \n",
       "306428  306429      2021-05-29       Zuid-Holland     Netherlands   \n",
       "\n",
       "               Last Update  Confirmed  Deaths  Recovered  \n",
       "0      2020-01-22 17:00:00        1.0     0.0        0.0  \n",
       "1      2020-01-22 17:00:00       14.0     0.0        0.0  \n",
       "2      2020-01-22 17:00:00        6.0     0.0        0.0  \n",
       "3      2020-01-22 17:00:00        1.0     0.0        0.0  \n",
       "4      2020-01-22 17:00:00        0.0     0.0        0.0  \n",
       "...                    ...        ...     ...        ...  \n",
       "306424 2021-05-30 04:20:55   102641.0  2335.0    95289.0  \n",
       "306425 2021-05-30 04:20:55    29147.0   245.0        0.0  \n",
       "306426 2021-05-30 04:20:55     1364.0     1.0     1324.0  \n",
       "306427 2021-05-30 04:20:55    87550.0  1738.0    83790.0  \n",
       "306428 2021-05-30 04:20:55   391559.0  4252.0        0.0  \n",
       "\n",
       "[306429 rows x 8 columns]"
      ]
     },
     "execution_count": 7,
     "metadata": {},
     "output_type": "execute_result"
    }
   ],
   "source": [
    "a"
   ]
  },
  {
   "cell_type": "code",
   "execution_count": 8,
   "id": "378f9ee2",
   "metadata": {
    "execution": {
     "iopub.execute_input": "2025-07-06T20:26:28.072810Z",
     "iopub.status.busy": "2025-07-06T20:26:28.072503Z",
     "iopub.status.idle": "2025-07-06T20:26:28.105439Z",
     "shell.execute_reply": "2025-07-06T20:26:28.104568Z"
    },
    "papermill": {
     "duration": 0.040234,
     "end_time": "2025-07-06T20:26:28.106821",
     "exception": false,
     "start_time": "2025-07-06T20:26:28.066587",
     "status": "completed"
    },
    "tags": []
   },
   "outputs": [
    {
     "data": {
      "text/plain": [
       "0         False\n",
       "1         False\n",
       "2         False\n",
       "3         False\n",
       "4         False\n",
       "          ...  \n",
       "306424    False\n",
       "306425    False\n",
       "306426    False\n",
       "306427    False\n",
       "306428    False\n",
       "Name: Country/Region, Length: 306429, dtype: bool"
      ]
     },
     "execution_count": 8,
     "metadata": {},
     "output_type": "execute_result"
    }
   ],
   "source": [
    "mask = a['Country/Region'] == 'India'\n",
    "mask"
   ]
  },
  {
   "cell_type": "code",
   "execution_count": 9,
   "id": "4515d4f0",
   "metadata": {
    "execution": {
     "iopub.execute_input": "2025-07-06T20:26:28.118333Z",
     "iopub.status.busy": "2025-07-06T20:26:28.117317Z",
     "iopub.status.idle": "2025-07-06T20:26:28.135841Z",
     "shell.execute_reply": "2025-07-06T20:26:28.134999Z"
    },
    "papermill": {
     "duration": 0.025629,
     "end_time": "2025-07-06T20:26:28.137330",
     "exception": false,
     "start_time": "2025-07-06T20:26:28.111701",
     "status": "completed"
    },
    "tags": []
   },
   "outputs": [
    {
     "data": {
      "text/html": [
       "<div>\n",
       "<style scoped>\n",
       "    .dataframe tbody tr th:only-of-type {\n",
       "        vertical-align: middle;\n",
       "    }\n",
       "\n",
       "    .dataframe tbody tr th {\n",
       "        vertical-align: top;\n",
       "    }\n",
       "\n",
       "    .dataframe thead th {\n",
       "        text-align: right;\n",
       "    }\n",
       "</style>\n",
       "<table border=\"1\" class=\"dataframe\">\n",
       "  <thead>\n",
       "    <tr style=\"text-align: right;\">\n",
       "      <th></th>\n",
       "      <th>SNo</th>\n",
       "      <th>ObservationDate</th>\n",
       "      <th>Province/State</th>\n",
       "      <th>Country/Region</th>\n",
       "      <th>Last Update</th>\n",
       "      <th>Confirmed</th>\n",
       "      <th>Deaths</th>\n",
       "      <th>Recovered</th>\n",
       "    </tr>\n",
       "  </thead>\n",
       "  <tbody>\n",
       "    <tr>\n",
       "      <th>446</th>\n",
       "      <td>447</td>\n",
       "      <td>2020-01-30</td>\n",
       "      <td>NaN</td>\n",
       "      <td>India</td>\n",
       "      <td>2020-01-30 16:00:00</td>\n",
       "      <td>1.0</td>\n",
       "      <td>0.0</td>\n",
       "      <td>0.0</td>\n",
       "    </tr>\n",
       "    <tr>\n",
       "      <th>509</th>\n",
       "      <td>510</td>\n",
       "      <td>2020-01-31</td>\n",
       "      <td>NaN</td>\n",
       "      <td>India</td>\n",
       "      <td>2020-01-31 23:59:00</td>\n",
       "      <td>1.0</td>\n",
       "      <td>0.0</td>\n",
       "      <td>0.0</td>\n",
       "    </tr>\n",
       "    <tr>\n",
       "      <th>567</th>\n",
       "      <td>568</td>\n",
       "      <td>2020-02-01</td>\n",
       "      <td>NaN</td>\n",
       "      <td>India</td>\n",
       "      <td>2020-01-31 08:15:00</td>\n",
       "      <td>1.0</td>\n",
       "      <td>0.0</td>\n",
       "      <td>0.0</td>\n",
       "    </tr>\n",
       "    <tr>\n",
       "      <th>629</th>\n",
       "      <td>630</td>\n",
       "      <td>2020-02-02</td>\n",
       "      <td>NaN</td>\n",
       "      <td>India</td>\n",
       "      <td>2020-02-02 06:03:08</td>\n",
       "      <td>2.0</td>\n",
       "      <td>0.0</td>\n",
       "      <td>0.0</td>\n",
       "    </tr>\n",
       "    <tr>\n",
       "      <th>696</th>\n",
       "      <td>697</td>\n",
       "      <td>2020-02-03</td>\n",
       "      <td>NaN</td>\n",
       "      <td>India</td>\n",
       "      <td>2020-02-03 21:43:02</td>\n",
       "      <td>3.0</td>\n",
       "      <td>0.0</td>\n",
       "      <td>0.0</td>\n",
       "    </tr>\n",
       "    <tr>\n",
       "      <th>...</th>\n",
       "      <td>...</td>\n",
       "      <td>...</td>\n",
       "      <td>...</td>\n",
       "      <td>...</td>\n",
       "      <td>...</td>\n",
       "      <td>...</td>\n",
       "      <td>...</td>\n",
       "      <td>...</td>\n",
       "    </tr>\n",
       "    <tr>\n",
       "      <th>306351</th>\n",
       "      <td>306352</td>\n",
       "      <td>2021-05-29</td>\n",
       "      <td>Tripura</td>\n",
       "      <td>India</td>\n",
       "      <td>2021-05-30 04:20:55</td>\n",
       "      <td>50739.0</td>\n",
       "      <td>507.0</td>\n",
       "      <td>43190.0</td>\n",
       "    </tr>\n",
       "    <tr>\n",
       "      <th>306366</th>\n",
       "      <td>306367</td>\n",
       "      <td>2021-05-29</td>\n",
       "      <td>Unknown</td>\n",
       "      <td>India</td>\n",
       "      <td>2021-05-30 04:20:55</td>\n",
       "      <td>0.0</td>\n",
       "      <td>0.0</td>\n",
       "      <td>0.0</td>\n",
       "    </tr>\n",
       "    <tr>\n",
       "      <th>306377</th>\n",
       "      <td>306378</td>\n",
       "      <td>2021-05-29</td>\n",
       "      <td>Uttar Pradesh</td>\n",
       "      <td>India</td>\n",
       "      <td>2021-05-30 04:20:55</td>\n",
       "      <td>1688152.0</td>\n",
       "      <td>20208.0</td>\n",
       "      <td>1621743.0</td>\n",
       "    </tr>\n",
       "    <tr>\n",
       "      <th>306378</th>\n",
       "      <td>306379</td>\n",
       "      <td>2021-05-29</td>\n",
       "      <td>Uttarakhand</td>\n",
       "      <td>India</td>\n",
       "      <td>2021-05-30 04:20:55</td>\n",
       "      <td>327112.0</td>\n",
       "      <td>6360.0</td>\n",
       "      <td>289642.0</td>\n",
       "    </tr>\n",
       "    <tr>\n",
       "      <th>306406</th>\n",
       "      <td>306407</td>\n",
       "      <td>2021-05-29</td>\n",
       "      <td>West Bengal</td>\n",
       "      <td>India</td>\n",
       "      <td>2021-05-30 04:20:55</td>\n",
       "      <td>1354956.0</td>\n",
       "      <td>15268.0</td>\n",
       "      <td>1237290.0</td>\n",
       "    </tr>\n",
       "  </tbody>\n",
       "</table>\n",
       "<p>13182 rows × 8 columns</p>\n",
       "</div>"
      ],
      "text/plain": [
       "           SNo ObservationDate Province/State Country/Region  \\\n",
       "446        447      2020-01-30            NaN          India   \n",
       "509        510      2020-01-31            NaN          India   \n",
       "567        568      2020-02-01            NaN          India   \n",
       "629        630      2020-02-02            NaN          India   \n",
       "696        697      2020-02-03            NaN          India   \n",
       "...        ...             ...            ...            ...   \n",
       "306351  306352      2021-05-29        Tripura          India   \n",
       "306366  306367      2021-05-29        Unknown          India   \n",
       "306377  306378      2021-05-29  Uttar Pradesh          India   \n",
       "306378  306379      2021-05-29    Uttarakhand          India   \n",
       "306406  306407      2021-05-29    West Bengal          India   \n",
       "\n",
       "               Last Update  Confirmed   Deaths  Recovered  \n",
       "446    2020-01-30 16:00:00        1.0      0.0        0.0  \n",
       "509    2020-01-31 23:59:00        1.0      0.0        0.0  \n",
       "567    2020-01-31 08:15:00        1.0      0.0        0.0  \n",
       "629    2020-02-02 06:03:08        2.0      0.0        0.0  \n",
       "696    2020-02-03 21:43:02        3.0      0.0        0.0  \n",
       "...                    ...        ...      ...        ...  \n",
       "306351 2021-05-30 04:20:55    50739.0    507.0    43190.0  \n",
       "306366 2021-05-30 04:20:55        0.0      0.0        0.0  \n",
       "306377 2021-05-30 04:20:55  1688152.0  20208.0  1621743.0  \n",
       "306378 2021-05-30 04:20:55   327112.0   6360.0   289642.0  \n",
       "306406 2021-05-30 04:20:55  1354956.0  15268.0  1237290.0  \n",
       "\n",
       "[13182 rows x 8 columns]"
      ]
     },
     "execution_count": 9,
     "metadata": {},
     "output_type": "execute_result"
    }
   ],
   "source": [
    "a[mask]"
   ]
  },
  {
   "cell_type": "code",
   "execution_count": 10,
   "id": "08f382ec",
   "metadata": {
    "execution": {
     "iopub.execute_input": "2025-07-06T20:26:28.149510Z",
     "iopub.status.busy": "2025-07-06T20:26:28.148836Z",
     "iopub.status.idle": "2025-07-06T20:26:28.158065Z",
     "shell.execute_reply": "2025-07-06T20:26:28.157204Z"
    },
    "papermill": {
     "duration": 0.01699,
     "end_time": "2025-07-06T20:26:28.159706",
     "exception": false,
     "start_time": "2025-07-06T20:26:28.142716",
     "status": "completed"
    },
    "tags": []
   },
   "outputs": [
    {
     "data": {
      "text/plain": [
       "0         False\n",
       "1         False\n",
       "2         False\n",
       "3         False\n",
       "4         False\n",
       "          ...  \n",
       "306424    False\n",
       "306425    False\n",
       "306426    False\n",
       "306427    False\n",
       "306428    False\n",
       "Name: ObservationDate, Length: 306429, dtype: bool"
      ]
     },
     "execution_count": 10,
     "metadata": {},
     "output_type": "execute_result"
    }
   ],
   "source": [
    "mask1 = a['ObservationDate'] == 'India'\n",
    "mask1"
   ]
  },
  {
   "cell_type": "code",
   "execution_count": 11,
   "id": "3213d659",
   "metadata": {
    "execution": {
     "iopub.execute_input": "2025-07-06T20:26:28.171910Z",
     "iopub.status.busy": "2025-07-06T20:26:28.171149Z",
     "iopub.status.idle": "2025-07-06T20:26:28.197093Z",
     "shell.execute_reply": "2025-07-06T20:26:28.196239Z"
    },
    "papermill": {
     "duration": 0.03356,
     "end_time": "2025-07-06T20:26:28.198609",
     "exception": false,
     "start_time": "2025-07-06T20:26:28.165049",
     "status": "completed"
    },
    "tags": []
   },
   "outputs": [
    {
     "data": {
      "text/plain": [
       "0         False\n",
       "1         False\n",
       "2         False\n",
       "3         False\n",
       "4         False\n",
       "          ...  \n",
       "306424    False\n",
       "306425    False\n",
       "306426    False\n",
       "306427    False\n",
       "306428    False\n",
       "Name: Province/State, Length: 306429, dtype: bool"
      ]
     },
     "execution_count": 11,
     "metadata": {},
     "output_type": "execute_result"
    }
   ],
   "source": [
    "mask2 = a['Province/State'] == 'India'\n",
    "mask2"
   ]
  },
  {
   "cell_type": "code",
   "execution_count": 12,
   "id": "0ae3c5e1",
   "metadata": {
    "execution": {
     "iopub.execute_input": "2025-07-06T20:26:28.210587Z",
     "iopub.status.busy": "2025-07-06T20:26:28.210264Z",
     "iopub.status.idle": "2025-07-06T20:26:28.218162Z",
     "shell.execute_reply": "2025-07-06T20:26:28.217242Z"
    },
    "papermill": {
     "duration": 0.015745,
     "end_time": "2025-07-06T20:26:28.219879",
     "exception": false,
     "start_time": "2025-07-06T20:26:28.204134",
     "status": "completed"
    },
    "tags": []
   },
   "outputs": [
    {
     "data": {
      "text/plain": [
       "0         False\n",
       "1         False\n",
       "2         False\n",
       "3         False\n",
       "4         False\n",
       "          ...  \n",
       "306424    False\n",
       "306425    False\n",
       "306426    False\n",
       "306427    False\n",
       "306428    False\n",
       "Name: Last Update, Length: 306429, dtype: bool"
      ]
     },
     "execution_count": 12,
     "metadata": {},
     "output_type": "execute_result"
    }
   ],
   "source": [
    "mask3 = a['Last Update'] == 'India'\n",
    "mask3"
   ]
  },
  {
   "cell_type": "code",
   "execution_count": 13,
   "id": "2cf739e1",
   "metadata": {
    "execution": {
     "iopub.execute_input": "2025-07-06T20:26:28.231806Z",
     "iopub.status.busy": "2025-07-06T20:26:28.231510Z",
     "iopub.status.idle": "2025-07-06T20:26:28.238372Z",
     "shell.execute_reply": "2025-07-06T20:26:28.237583Z"
    },
    "papermill": {
     "duration": 0.014519,
     "end_time": "2025-07-06T20:26:28.239806",
     "exception": false,
     "start_time": "2025-07-06T20:26:28.225287",
     "status": "completed"
    },
    "tags": []
   },
   "outputs": [
    {
     "data": {
      "text/plain": [
       "0         False\n",
       "1         False\n",
       "2         False\n",
       "3         False\n",
       "4         False\n",
       "          ...  \n",
       "306424    False\n",
       "306425    False\n",
       "306426    False\n",
       "306427    False\n",
       "306428    False\n",
       "Name: Confirmed, Length: 306429, dtype: bool"
      ]
     },
     "execution_count": 13,
     "metadata": {},
     "output_type": "execute_result"
    }
   ],
   "source": [
    "mask4 = a['Confirmed'] == 'India'\n",
    "mask4"
   ]
  },
  {
   "cell_type": "code",
   "execution_count": 14,
   "id": "6f91de79",
   "metadata": {
    "execution": {
     "iopub.execute_input": "2025-07-06T20:26:28.252892Z",
     "iopub.status.busy": "2025-07-06T20:26:28.252287Z",
     "iopub.status.idle": "2025-07-06T20:26:28.259534Z",
     "shell.execute_reply": "2025-07-06T20:26:28.258759Z"
    },
    "papermill": {
     "duration": 0.014825,
     "end_time": "2025-07-06T20:26:28.260850",
     "exception": false,
     "start_time": "2025-07-06T20:26:28.246025",
     "status": "completed"
    },
    "tags": []
   },
   "outputs": [
    {
     "data": {
      "text/plain": [
       "0         False\n",
       "1         False\n",
       "2         False\n",
       "3         False\n",
       "4         False\n",
       "          ...  \n",
       "306424    False\n",
       "306425    False\n",
       "306426    False\n",
       "306427    False\n",
       "306428    False\n",
       "Name: Deaths, Length: 306429, dtype: bool"
      ]
     },
     "execution_count": 14,
     "metadata": {},
     "output_type": "execute_result"
    }
   ],
   "source": [
    "mask5 = a['Deaths'] == 'India'\n",
    "mask5"
   ]
  },
  {
   "cell_type": "code",
   "execution_count": 15,
   "id": "a803fd80",
   "metadata": {
    "execution": {
     "iopub.execute_input": "2025-07-06T20:26:28.273151Z",
     "iopub.status.busy": "2025-07-06T20:26:28.272852Z",
     "iopub.status.idle": "2025-07-06T20:26:28.280395Z",
     "shell.execute_reply": "2025-07-06T20:26:28.279260Z"
    },
    "papermill": {
     "duration": 0.015637,
     "end_time": "2025-07-06T20:26:28.282102",
     "exception": false,
     "start_time": "2025-07-06T20:26:28.266465",
     "status": "completed"
    },
    "tags": []
   },
   "outputs": [
    {
     "data": {
      "text/plain": [
       "0         False\n",
       "1         False\n",
       "2         False\n",
       "3         False\n",
       "4         False\n",
       "          ...  \n",
       "306424    False\n",
       "306425    False\n",
       "306426    False\n",
       "306427    False\n",
       "306428    False\n",
       "Name: Recovered, Length: 306429, dtype: bool"
      ]
     },
     "execution_count": 15,
     "metadata": {},
     "output_type": "execute_result"
    }
   ],
   "source": [
    "mask6 = a['Recovered'] == 'India'\n",
    "mask6"
   ]
  },
  {
   "cell_type": "code",
   "execution_count": 16,
   "id": "152c560d",
   "metadata": {
    "execution": {
     "iopub.execute_input": "2025-07-06T20:26:28.295608Z",
     "iopub.status.busy": "2025-07-06T20:26:28.295305Z",
     "iopub.status.idle": "2025-07-06T20:26:28.300561Z",
     "shell.execute_reply": "2025-07-06T20:26:28.299763Z"
    },
    "papermill": {
     "duration": 0.013492,
     "end_time": "2025-07-06T20:26:28.302096",
     "exception": false,
     "start_time": "2025-07-06T20:26:28.288604",
     "status": "completed"
    },
    "tags": []
   },
   "outputs": [],
   "source": [
    "b = a[mask1 & mask2]"
   ]
  },
  {
   "cell_type": "code",
   "execution_count": 17,
   "id": "26448d4d",
   "metadata": {
    "execution": {
     "iopub.execute_input": "2025-07-06T20:26:28.314694Z",
     "iopub.status.busy": "2025-07-06T20:26:28.314349Z",
     "iopub.status.idle": "2025-07-06T20:26:28.322491Z",
     "shell.execute_reply": "2025-07-06T20:26:28.321705Z"
    },
    "papermill": {
     "duration": 0.016451,
     "end_time": "2025-07-06T20:26:28.324177",
     "exception": false,
     "start_time": "2025-07-06T20:26:28.307726",
     "status": "completed"
    },
    "tags": []
   },
   "outputs": [
    {
     "data": {
      "text/html": [
       "<div>\n",
       "<style scoped>\n",
       "    .dataframe tbody tr th:only-of-type {\n",
       "        vertical-align: middle;\n",
       "    }\n",
       "\n",
       "    .dataframe tbody tr th {\n",
       "        vertical-align: top;\n",
       "    }\n",
       "\n",
       "    .dataframe thead th {\n",
       "        text-align: right;\n",
       "    }\n",
       "</style>\n",
       "<table border=\"1\" class=\"dataframe\">\n",
       "  <thead>\n",
       "    <tr style=\"text-align: right;\">\n",
       "      <th></th>\n",
       "      <th>SNo</th>\n",
       "      <th>ObservationDate</th>\n",
       "      <th>Province/State</th>\n",
       "      <th>Country/Region</th>\n",
       "      <th>Last Update</th>\n",
       "      <th>Confirmed</th>\n",
       "      <th>Deaths</th>\n",
       "      <th>Recovered</th>\n",
       "    </tr>\n",
       "  </thead>\n",
       "  <tbody>\n",
       "  </tbody>\n",
       "</table>\n",
       "</div>"
      ],
      "text/plain": [
       "Empty DataFrame\n",
       "Columns: [SNo, ObservationDate, Province/State, Country/Region, Last Update, Confirmed, Deaths, Recovered]\n",
       "Index: []"
      ]
     },
     "execution_count": 17,
     "metadata": {},
     "output_type": "execute_result"
    }
   ],
   "source": [
    "b"
   ]
  },
  {
   "cell_type": "code",
   "execution_count": 18,
   "id": "4a7de3c8",
   "metadata": {
    "execution": {
     "iopub.execute_input": "2025-07-06T20:26:28.337153Z",
     "iopub.status.busy": "2025-07-06T20:26:28.336853Z",
     "iopub.status.idle": "2025-07-06T20:26:28.346363Z",
     "shell.execute_reply": "2025-07-06T20:26:28.345482Z"
    },
    "papermill": {
     "duration": 0.017875,
     "end_time": "2025-07-06T20:26:28.348161",
     "exception": false,
     "start_time": "2025-07-06T20:26:28.330286",
     "status": "completed"
    },
    "tags": []
   },
   "outputs": [
    {
     "data": {
      "text/html": [
       "<div>\n",
       "<style scoped>\n",
       "    .dataframe tbody tr th:only-of-type {\n",
       "        vertical-align: middle;\n",
       "    }\n",
       "\n",
       "    .dataframe tbody tr th {\n",
       "        vertical-align: top;\n",
       "    }\n",
       "\n",
       "    .dataframe thead th {\n",
       "        text-align: right;\n",
       "    }\n",
       "</style>\n",
       "<table border=\"1\" class=\"dataframe\">\n",
       "  <thead>\n",
       "    <tr style=\"text-align: right;\">\n",
       "      <th></th>\n",
       "      <th>SNo</th>\n",
       "      <th>ObservationDate</th>\n",
       "      <th>Province/State</th>\n",
       "      <th>Country/Region</th>\n",
       "      <th>Last Update</th>\n",
       "      <th>Confirmed</th>\n",
       "      <th>Deaths</th>\n",
       "      <th>Recovered</th>\n",
       "    </tr>\n",
       "  </thead>\n",
       "  <tbody>\n",
       "  </tbody>\n",
       "</table>\n",
       "</div>"
      ],
      "text/plain": [
       "Empty DataFrame\n",
       "Columns: [SNo, ObservationDate, Province/State, Country/Region, Last Update, Confirmed, Deaths, Recovered]\n",
       "Index: []"
      ]
     },
     "execution_count": 18,
     "metadata": {},
     "output_type": "execute_result"
    }
   ],
   "source": [
    "a[mask1 & mask3]"
   ]
  },
  {
   "cell_type": "code",
   "execution_count": 19,
   "id": "fe569c3e",
   "metadata": {
    "execution": {
     "iopub.execute_input": "2025-07-06T20:26:28.361448Z",
     "iopub.status.busy": "2025-07-06T20:26:28.361120Z",
     "iopub.status.idle": "2025-07-06T20:26:28.370618Z",
     "shell.execute_reply": "2025-07-06T20:26:28.369721Z"
    },
    "papermill": {
     "duration": 0.018217,
     "end_time": "2025-07-06T20:26:28.372475",
     "exception": false,
     "start_time": "2025-07-06T20:26:28.354258",
     "status": "completed"
    },
    "tags": []
   },
   "outputs": [
    {
     "data": {
      "text/html": [
       "<div>\n",
       "<style scoped>\n",
       "    .dataframe tbody tr th:only-of-type {\n",
       "        vertical-align: middle;\n",
       "    }\n",
       "\n",
       "    .dataframe tbody tr th {\n",
       "        vertical-align: top;\n",
       "    }\n",
       "\n",
       "    .dataframe thead th {\n",
       "        text-align: right;\n",
       "    }\n",
       "</style>\n",
       "<table border=\"1\" class=\"dataframe\">\n",
       "  <thead>\n",
       "    <tr style=\"text-align: right;\">\n",
       "      <th></th>\n",
       "      <th>SNo</th>\n",
       "      <th>ObservationDate</th>\n",
       "      <th>Province/State</th>\n",
       "      <th>Country/Region</th>\n",
       "      <th>Last Update</th>\n",
       "      <th>Confirmed</th>\n",
       "      <th>Deaths</th>\n",
       "      <th>Recovered</th>\n",
       "    </tr>\n",
       "  </thead>\n",
       "  <tbody>\n",
       "  </tbody>\n",
       "</table>\n",
       "</div>"
      ],
      "text/plain": [
       "Empty DataFrame\n",
       "Columns: [SNo, ObservationDate, Province/State, Country/Region, Last Update, Confirmed, Deaths, Recovered]\n",
       "Index: []"
      ]
     },
     "execution_count": 19,
     "metadata": {},
     "output_type": "execute_result"
    }
   ],
   "source": [
    "f = a[mask1 | mask2]\n",
    "f"
   ]
  },
  {
   "cell_type": "code",
   "execution_count": null,
   "id": "8e194a16",
   "metadata": {
    "papermill": {
     "duration": 0.005529,
     "end_time": "2025-07-06T20:26:28.385173",
     "exception": false,
     "start_time": "2025-07-06T20:26:28.379644",
     "status": "completed"
    },
    "tags": []
   },
   "outputs": [],
   "source": []
  },
  {
   "cell_type": "code",
   "execution_count": null,
   "id": "c7e55ca6",
   "metadata": {
    "papermill": {
     "duration": 0.00562,
     "end_time": "2025-07-06T20:26:28.397098",
     "exception": false,
     "start_time": "2025-07-06T20:26:28.391478",
     "status": "completed"
    },
    "tags": []
   },
   "outputs": [],
   "source": []
  },
  {
   "cell_type": "code",
   "execution_count": null,
   "id": "1f39287e",
   "metadata": {
    "papermill": {
     "duration": 0.005525,
     "end_time": "2025-07-06T20:26:28.408509",
     "exception": false,
     "start_time": "2025-07-06T20:26:28.402984",
     "status": "completed"
    },
    "tags": []
   },
   "outputs": [],
   "source": []
  },
  {
   "cell_type": "code",
   "execution_count": null,
   "id": "84474b09",
   "metadata": {
    "papermill": {
     "duration": 0.005648,
     "end_time": "2025-07-06T20:26:28.419907",
     "exception": false,
     "start_time": "2025-07-06T20:26:28.414259",
     "status": "completed"
    },
    "tags": []
   },
   "outputs": [],
   "source": []
  },
  {
   "cell_type": "code",
   "execution_count": null,
   "id": "b0ba3db7",
   "metadata": {
    "papermill": {
     "duration": 0.00543,
     "end_time": "2025-07-06T20:26:28.431233",
     "exception": false,
     "start_time": "2025-07-06T20:26:28.425803",
     "status": "completed"
    },
    "tags": []
   },
   "outputs": [],
   "source": []
  },
  {
   "cell_type": "code",
   "execution_count": null,
   "id": "5f51c851",
   "metadata": {
    "papermill": {
     "duration": 0.005664,
     "end_time": "2025-07-06T20:26:28.442590",
     "exception": false,
     "start_time": "2025-07-06T20:26:28.436926",
     "status": "completed"
    },
    "tags": []
   },
   "outputs": [],
   "source": []
  }
 ],
 "metadata": {
  "kaggle": {
   "accelerator": "none",
   "dataSources": [
    {
     "datasetId": 7814510,
     "sourceId": 12392475,
     "sourceType": "datasetVersion"
    },
    {
     "datasetId": 7814544,
     "sourceId": 12392518,
     "sourceType": "datasetVersion"
    }
   ],
   "dockerImageVersionId": 31040,
   "isGpuEnabled": false,
   "isInternetEnabled": true,
   "language": "python",
   "sourceType": "notebook"
  },
  "kernelspec": {
   "display_name": "Python 3",
   "language": "python",
   "name": "python3"
  },
  "language_info": {
   "codemirror_mode": {
    "name": "ipython",
    "version": 3
   },
   "file_extension": ".py",
   "mimetype": "text/x-python",
   "name": "python",
   "nbconvert_exporter": "python",
   "pygments_lexer": "ipython3",
   "version": "3.11.11"
  },
  "papermill": {
   "default_parameters": {},
   "duration": 9.12058,
   "end_time": "2025-07-06T20:26:28.969357",
   "environment_variables": {},
   "exception": null,
   "input_path": "__notebook__.ipynb",
   "output_path": "__notebook__.ipynb",
   "parameters": {},
   "start_time": "2025-07-06T20:26:19.848777",
   "version": "2.6.0"
  }
 },
 "nbformat": 4,
 "nbformat_minor": 5
}
